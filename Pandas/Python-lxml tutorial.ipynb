{
 "cells": [
  {
   "cell_type": "code",
   "execution_count": 130,
   "metadata": {
    "collapsed": true
   },
   "outputs": [],
   "source": [
    "from xml.etree import ElementTree as ET\n",
    "import pandas as pd\n",
    "import numpy as np\n",
    "%matplotlib inline"
   ]
  },
  {
   "cell_type": "code",
   "execution_count": 5,
   "metadata": {
    "collapsed": false
   },
   "outputs": [],
   "source": [
    "document = ET.parse( './data/mondial_database_less.xml' )"
   ]
  },
  {
   "cell_type": "markdown",
   "metadata": {},
   "source": [
    "## getroot"
   ]
  },
  {
   "cell_type": "code",
   "execution_count": 7,
   "metadata": {
    "collapsed": false
   },
   "outputs": [
    {
     "data": {
      "text/plain": [
       "<Element 'mondial' at 0x6380278>"
      ]
     },
     "execution_count": 7,
     "metadata": {},
     "output_type": "execute_result"
    }
   ],
   "source": [
    "root = document.getroot()\n",
    "root"
   ]
  },
  {
   "cell_type": "code",
   "execution_count": 8,
   "metadata": {
    "collapsed": false
   },
   "outputs": [
    {
     "data": {
      "text/plain": [
       "'mondial'"
      ]
     },
     "execution_count": 8,
     "metadata": {},
     "output_type": "execute_result"
    }
   ],
   "source": [
    "root.tag"
   ]
  },
  {
   "cell_type": "code",
   "execution_count": 9,
   "metadata": {
    "collapsed": false
   },
   "outputs": [
    {
     "data": {
      "text/plain": [
       "'\\n   '"
      ]
     },
     "execution_count": 9,
     "metadata": {},
     "output_type": "execute_result"
    }
   ],
   "source": [
    "root.text"
   ]
  },
  {
   "cell_type": "code",
   "execution_count": 11,
   "metadata": {
    "collapsed": false
   },
   "outputs": [
    {
     "data": {
      "text/plain": [
       "{}"
      ]
     },
     "execution_count": 11,
     "metadata": {},
     "output_type": "execute_result"
    }
   ],
   "source": [
    "root.attrib"
   ]
  },
  {
   "cell_type": "code",
   "execution_count": 12,
   "metadata": {
    "collapsed": false
   },
   "outputs": [
    {
     "data": {
      "text/plain": [
       "[<Element 'country' at 0x63802b0>,\n",
       " <Element 'country' at 0x6390518>,\n",
       " <Element 'country' at 0x6423c18>,\n",
       " <Element 'country' at 0x64319e8>,\n",
       " <Element 'country' at 0x643f9e8>,\n",
       " <Element 'country' at 0x644c4e0>,\n",
       " <Element 'country' at 0x644cc50>]"
      ]
     },
     "execution_count": 12,
     "metadata": {},
     "output_type": "execute_result"
    }
   ],
   "source": [
    "list(root)"
   ]
  },
  {
   "cell_type": "code",
   "execution_count": 14,
   "metadata": {
    "collapsed": false
   },
   "outputs": [
    {
     "data": {
      "text/plain": [
       "[<Element 'mondial' at 0x6380278>,\n",
       " <Element 'country' at 0x63802b0>,\n",
       " <Element 'name' at 0x6380320>,\n",
       " <Element 'population' at 0x6380358>,\n",
       " <Element 'population' at 0x6380390>,\n",
       " <Element 'population' at 0x63803c8>,\n",
       " <Element 'population' at 0x6380400>,\n",
       " <Element 'population' at 0x6380438>,\n",
       " <Element 'population' at 0x6380470>,\n",
       " <Element 'population' at 0x63804a8>,\n",
       " <Element 'population' at 0x4b4f518>,\n",
       " <Element 'population' at 0x4b4fc50>,\n",
       " <Element 'population_growth' at 0x6380518>,\n",
       " <Element 'infant_mortality' at 0x6380588>,\n",
       " <Element 'gdp_total' at 0x63805c0>,\n",
       " <Element 'gdp_agri' at 0x63805f8>,\n",
       " <Element 'gdp_ind' at 0x6380630>,\n",
       " <Element 'gdp_serv' at 0x6380668>,\n",
       " <Element 'inflation' at 0x63806a0>,\n",
       " <Element 'unemployment' at 0x63806d8>,\n",
       " <Element 'indep_date' at 0x6380710>,\n",
       " <Element 'government' at 0x6380748>,\n",
       " <Element 'encompassed' at 0x63807b8>,\n",
       " <Element 'ethnicgroup' at 0x63807f0>,\n",
       " <Element 'ethnicgroup' at 0x6380828>,\n",
       " <Element 'religion' at 0x6380860>,\n",
       " <Element 'religion' at 0x6380898>,\n",
       " <Element 'religion' at 0x63808d0>,\n",
       " <Element 'language' at 0x6380940>,\n",
       " <Element 'language' at 0x6380978>,\n",
       " <Element 'border' at 0x63809b0>,\n",
       " <Element 'border' at 0x63809e8>,\n",
       " <Element 'border' at 0x6380a20>,\n",
       " <Element 'border' at 0x6380a58>,\n",
       " <Element 'city' at 0x6380a90>,\n",
       " <Element 'name' at 0x6380b00>,\n",
       " <Element 'name' at 0x6380b38>,\n",
       " <Element 'latitude' at 0x6380b70>,\n",
       " <Element 'longitude' at 0x6380ba8>,\n",
       " <Element 'population' at 0x6380be0>,\n",
       " <Element 'population' at 0x6380c18>,\n",
       " <Element 'population' at 0x6380c50>,\n",
       " <Element 'city' at 0x6380c88>,\n",
       " <Element 'name' at 0x6380cf8>,\n",
       " <Element 'latitude' at 0x6380d30>,\n",
       " <Element 'longitude' at 0x6380d68>,\n",
       " <Element 'population' at 0x6380da0>,\n",
       " <Element 'population' at 0x6380dd8>,\n",
       " <Element 'located_at' at 0x6380e10>,\n",
       " <Element 'city' at 0x6380e48>,\n",
       " <Element 'name' at 0x6380eb8>,\n",
       " <Element 'latitude' at 0x6380ef0>,\n",
       " <Element 'longitude' at 0x6380f28>,\n",
       " <Element 'population' at 0x6380f60>,\n",
       " <Element 'population' at 0x6380f98>,\n",
       " <Element 'located_at' at 0x6380fd0>,\n",
       " <Element 'city' at 0x6390048>,\n",
       " <Element 'name' at 0x63900b8>,\n",
       " <Element 'latitude' at 0x63900f0>,\n",
       " <Element 'longitude' at 0x6390128>,\n",
       " <Element 'population' at 0x6390160>,\n",
       " <Element 'population' at 0x6390198>,\n",
       " <Element 'located_at' at 0x63901d0>,\n",
       " <Element 'city' at 0x6390208>,\n",
       " <Element 'name' at 0x6390278>,\n",
       " <Element 'latitude' at 0x63902b0>,\n",
       " <Element 'longitude' at 0x63902e8>,\n",
       " <Element 'population' at 0x6390320>,\n",
       " <Element 'population' at 0x6390358>,\n",
       " <Element 'city' at 0x6390390>,\n",
       " <Element 'name' at 0x6390400>,\n",
       " <Element 'latitude' at 0x6390438>,\n",
       " <Element 'longitude' at 0x6390470>,\n",
       " <Element 'population' at 0x63904a8>,\n",
       " <Element 'population' at 0x63904e0>,\n",
       " <Element 'country' at 0x6390518>,\n",
       " <Element 'name' at 0x6390588>,\n",
       " <Element 'localname' at 0x63905c0>,\n",
       " <Element 'population' at 0x63905f8>,\n",
       " <Element 'population' at 0x6390630>,\n",
       " <Element 'population' at 0x6390668>,\n",
       " <Element 'population' at 0x63906a0>,\n",
       " <Element 'population' at 0x63906d8>,\n",
       " <Element 'population' at 0x6390710>,\n",
       " <Element 'population' at 0x6390748>,\n",
       " <Element 'population' at 0x6390780>,\n",
       " <Element 'population' at 0x63907b8>,\n",
       " <Element 'population' at 0x63907f0>,\n",
       " <Element 'population' at 0x6390828>,\n",
       " <Element 'population' at 0x6390860>,\n",
       " <Element 'population' at 0x6390898>,\n",
       " <Element 'population' at 0x63908d0>,\n",
       " <Element 'population' at 0x6390908>,\n",
       " <Element 'population_growth' at 0x6390940>,\n",
       " <Element 'infant_mortality' at 0x6390978>,\n",
       " <Element 'gdp_total' at 0x63909b0>,\n",
       " <Element 'gdp_agri' at 0x63909e8>,\n",
       " <Element 'gdp_ind' at 0x6390a20>,\n",
       " <Element 'gdp_serv' at 0x6390a58>,\n",
       " <Element 'inflation' at 0x6390a90>,\n",
       " <Element 'unemployment' at 0x6390ac8>,\n",
       " <Element 'indep_date' at 0x6390b00>,\n",
       " <Element 'government' at 0x6390b38>,\n",
       " <Element 'encompassed' at 0x6390ba8>,\n",
       " <Element 'ethnicgroup' at 0x6390be0>,\n",
       " <Element 'religion' at 0x6390c18>,\n",
       " <Element 'religion' at 0x6390c88>,\n",
       " <Element 'language' at 0x6390cc0>,\n",
       " <Element 'border' at 0x6390cf8>,\n",
       " <Element 'border' at 0x6390d30>,\n",
       " <Element 'border' at 0x6390d68>,\n",
       " <Element 'border' at 0x6390da0>,\n",
       " <Element 'province' at 0x6390dd8>,\n",
       " <Element 'name' at 0x6390e48>,\n",
       " <Element 'localname' at 0x6390e80>,\n",
       " <Element 'area' at 0x6390eb8>,\n",
       " <Element 'population' at 0x6390ef0>,\n",
       " <Element 'population' at 0x6390f28>,\n",
       " <Element 'population' at 0x6390f60>,\n",
       " <Element 'population' at 0x6390f98>,\n",
       " <Element 'city' at 0x6390fd0>,\n",
       " <Element 'name' at 0x639d080>,\n",
       " <Element 'city' at 0x639d0b8>,\n",
       " <Element 'name' at 0x639d0f0>,\n",
       " <Element 'population' at 0x639d128>,\n",
       " <Element 'population' at 0x639d160>,\n",
       " <Element 'population' at 0x639d198>,\n",
       " <Element 'population' at 0x639d1d0>,\n",
       " <Element 'located_at' at 0x639d208>,\n",
       " <Element 'province' at 0x639d240>,\n",
       " <Element 'name' at 0x639d2b0>,\n",
       " <Element 'localname' at 0x639d2e8>,\n",
       " <Element 'area' at 0x639d320>,\n",
       " <Element 'population' at 0x639d358>,\n",
       " <Element 'population' at 0x639d390>,\n",
       " <Element 'population' at 0x639d3c8>,\n",
       " <Element 'population' at 0x639d400>,\n",
       " <Element 'city' at 0x639d438>,\n",
       " <Element 'name' at 0x639d4a8>,\n",
       " <Element 'localname' at 0x639d4e0>,\n",
       " <Element 'latitude' at 0x639d518>,\n",
       " <Element 'longitude' at 0x639d550>,\n",
       " <Element 'population' at 0x639d588>,\n",
       " <Element 'population' at 0x639d5c0>,\n",
       " <Element 'population' at 0x639d5f8>,\n",
       " <Element 'population' at 0x639d630>,\n",
       " <Element 'located_at' at 0x639d668>,\n",
       " <Element 'city' at 0x639d6a0>,\n",
       " <Element 'name' at 0x639d6d8>,\n",
       " <Element 'name' at 0x639d710>,\n",
       " <Element 'localname' at 0x639d748>,\n",
       " <Element 'population' at 0x639d780>,\n",
       " <Element 'population' at 0x639d7b8>,\n",
       " <Element 'population' at 0x639d7f0>,\n",
       " <Element 'population' at 0x639d828>,\n",
       " <Element 'located_at' at 0x639d860>,\n",
       " <Element 'city' at 0x639d898>,\n",
       " <Element 'name' at 0x639d908>,\n",
       " <Element 'localname' at 0x639d940>,\n",
       " <Element 'population' at 0x639d978>,\n",
       " <Element 'population' at 0x639d9b0>,\n",
       " <Element 'population' at 0x639d9e8>,\n",
       " <Element 'city' at 0x639da20>,\n",
       " <Element 'name' at 0x639da90>,\n",
       " <Element 'localname' at 0x639dac8>,\n",
       " <Element 'population' at 0x639db00>,\n",
       " <Element 'population' at 0x639db38>,\n",
       " <Element 'population' at 0x639db70>,\n",
       " <Element 'province' at 0x639dba8>,\n",
       " <Element 'name' at 0x639dbe0>,\n",
       " <Element 'localname' at 0x639dc18>,\n",
       " <Element 'area' at 0x639dc50>,\n",
       " <Element 'population' at 0x639dc88>,\n",
       " <Element 'population' at 0x639dcc0>,\n",
       " <Element 'population' at 0x639dcf8>,\n",
       " <Element 'population' at 0x639dd30>,\n",
       " <Element 'city' at 0x639dd68>,\n",
       " <Element 'name' at 0x639dda0>,\n",
       " <Element 'name' at 0x639ddd8>,\n",
       " <Element 'localname' at 0x639de10>,\n",
       " <Element 'population' at 0x639de48>,\n",
       " <Element 'population' at 0x639de80>,\n",
       " <Element 'population' at 0x639deb8>,\n",
       " <Element 'population' at 0x639def0>,\n",
       " <Element 'located_at' at 0x639df28>,\n",
       " <Element 'province' at 0x639df60>,\n",
       " <Element 'name' at 0x639dfd0>,\n",
       " <Element 'localname' at 0x63ab080>,\n",
       " <Element 'area' at 0x63ab0b8>,\n",
       " <Element 'population' at 0x63ab0f0>,\n",
       " <Element 'population' at 0x63ab128>,\n",
       " <Element 'population' at 0x63ab160>,\n",
       " <Element 'population' at 0x63ab198>,\n",
       " <Element 'city' at 0x63ab1d0>,\n",
       " <Element 'name' at 0x63ab240>,\n",
       " <Element 'province' at 0x63ab278>,\n",
       " <Element 'name' at 0x63ab2e8>,\n",
       " <Element 'localname' at 0x63ab320>,\n",
       " <Element 'area' at 0x63ab358>,\n",
       " <Element 'population' at 0x63ab390>,\n",
       " <Element 'population' at 0x63ab3c8>,\n",
       " <Element 'population' at 0x63ab400>,\n",
       " <Element 'population' at 0x63ab438>,\n",
       " <Element 'city' at 0x63ab470>,\n",
       " <Element 'name' at 0x63ab4e0>,\n",
       " <Element 'name' at 0x63ab518>,\n",
       " <Element 'localname' at 0x63ab550>,\n",
       " <Element 'population' at 0x63ab588>,\n",
       " <Element 'population' at 0x63ab5c0>,\n",
       " <Element 'population' at 0x63ab5f8>,\n",
       " <Element 'located_at' at 0x63ab630>,\n",
       " <Element 'located_on' at 0x63ab668>,\n",
       " <Element 'province' at 0x63ab6a0>,\n",
       " <Element 'name' at 0x63ab710>,\n",
       " <Element 'localname' at 0x63ab748>,\n",
       " <Element 'area' at 0x63ab780>,\n",
       " <Element 'population' at 0x63ab7b8>,\n",
       " <Element 'population' at 0x63ab7f0>,\n",
       " <Element 'population' at 0x63ab828>,\n",
       " <Element 'city' at 0x63ab860>,\n",
       " <Element 'name' at 0x63ab8d0>,\n",
       " <Element 'localname' at 0x63ab908>,\n",
       " <Element 'population' at 0x63ab940>,\n",
       " <Element 'population' at 0x63ab978>,\n",
       " <Element 'population' at 0x63ab9b0>,\n",
       " <Element 'province' at 0x63ab9e8>,\n",
       " <Element 'name' at 0x63aba58>,\n",
       " <Element 'localname' at 0x63abac8>,\n",
       " <Element 'area' at 0x63abb00>,\n",
       " <Element 'population' at 0x63abb38>,\n",
       " <Element 'population' at 0x63abb70>,\n",
       " <Element 'population' at 0x63abba8>,\n",
       " <Element 'population' at 0x63abbe0>,\n",
       " <Element 'city' at 0x63abc18>,\n",
       " <Element 'name' at 0x63abc88>,\n",
       " <Element 'localname' at 0x63abcc0>,\n",
       " <Element 'latitude' at 0x63abcf8>,\n",
       " <Element 'longitude' at 0x63abd30>,\n",
       " <Element 'population' at 0x63abd68>,\n",
       " <Element 'population' at 0x63abda0>,\n",
       " <Element 'population' at 0x63abdd8>,\n",
       " <Element 'population' at 0x63abe10>,\n",
       " <Element 'located_at' at 0x63abe48>,\n",
       " <Element 'province' at 0x63abe80>,\n",
       " <Element 'name' at 0x63abeb8>,\n",
       " <Element 'localname' at 0x63abef0>,\n",
       " <Element 'area' at 0x63abf28>,\n",
       " <Element 'population' at 0x63abf60>,\n",
       " <Element 'population' at 0x63abf98>,\n",
       " <Element 'population' at 0x63abfd0>,\n",
       " <Element 'population' at 0x63b8048>,\n",
       " <Element 'city' at 0x63b8080>,\n",
       " <Element 'name' at 0x63b80b8>,\n",
       " <Element 'name' at 0x63b80f0>,\n",
       " <Element 'localname' at 0x63b8128>,\n",
       " <Element 'population' at 0x63b8160>,\n",
       " <Element 'population' at 0x63b8198>,\n",
       " <Element 'population' at 0x63b81d0>,\n",
       " <Element 'population' at 0x63b8208>,\n",
       " <Element 'located_at' at 0x63b8240>,\n",
       " <Element 'located_on' at 0x63b8278>,\n",
       " <Element 'city' at 0x63b82b0>,\n",
       " <Element 'name' at 0x63b8320>,\n",
       " <Element 'localname' at 0x63b8358>,\n",
       " <Element 'population' at 0x63b8390>,\n",
       " <Element 'population' at 0x63b83c8>,\n",
       " <Element 'population' at 0x63b8400>,\n",
       " <Element 'located_at' at 0x63b8438>,\n",
       " <Element 'located_on' at 0x63b8470>,\n",
       " <Element 'province' at 0x63b84a8>,\n",
       " <Element 'name' at 0x63b8518>,\n",
       " <Element 'localname' at 0x63b8550>,\n",
       " <Element 'area' at 0x63b8588>,\n",
       " <Element 'population' at 0x63b85c0>,\n",
       " <Element 'population' at 0x63b85f8>,\n",
       " <Element 'population' at 0x63b8630>,\n",
       " <Element 'population' at 0x63b8668>,\n",
       " <Element 'city' at 0x63b86a0>,\n",
       " <Element 'name' at 0x63b8710>,\n",
       " <Element 'located_at' at 0x63b8748>,\n",
       " <Element 'located_on' at 0x63b8780>,\n",
       " <Element 'city' at 0x63b87b8>,\n",
       " <Element 'name' at 0x63b8828>,\n",
       " <Element 'name' at 0x63b8860>,\n",
       " <Element 'localname' at 0x63b8898>,\n",
       " <Element 'population' at 0x63b88d0>,\n",
       " <Element 'population' at 0x63b8908>,\n",
       " <Element 'population' at 0x63b8940>,\n",
       " <Element 'located_at' at 0x63b8978>,\n",
       " <Element 'located_on' at 0x63b89b0>,\n",
       " <Element 'province' at 0x63b89e8>,\n",
       " <Element 'name' at 0x63b8a58>,\n",
       " <Element 'localname' at 0x63b8a90>,\n",
       " <Element 'area' at 0x63b8ac8>,\n",
       " <Element 'population' at 0x63b8b00>,\n",
       " <Element 'population' at 0x63b8b38>,\n",
       " <Element 'population' at 0x63b8b70>,\n",
       " <Element 'city' at 0x63b8ba8>,\n",
       " <Element 'name' at 0x63b8c18>,\n",
       " <Element 'province' at 0x63b8c50>,\n",
       " <Element 'name' at 0x63b8cc0>,\n",
       " <Element 'localname' at 0x63b8cf8>,\n",
       " <Element 'area' at 0x63b8d30>,\n",
       " <Element 'population' at 0x63b8d68>,\n",
       " <Element 'population' at 0x63b8da0>,\n",
       " <Element 'population' at 0x63b8dd8>,\n",
       " <Element 'city' at 0x63b8e10>,\n",
       " <Element 'name' at 0x63b8e80>,\n",
       " <Element 'localname' at 0x63b8eb8>,\n",
       " <Element 'population' at 0x63b8ef0>,\n",
       " <Element 'city' at 0x63b8f28>,\n",
       " <Element 'name' at 0x63b8f98>,\n",
       " <Element 'name' at 0x63b8fd0>,\n",
       " <Element 'localname' at 0x6423048>,\n",
       " <Element 'population' at 0x6423080>,\n",
       " <Element 'population' at 0x64230b8>,\n",
       " <Element 'population' at 0x64230f0>,\n",
       " <Element 'province' at 0x6423128>,\n",
       " <Element 'name' at 0x6423160>,\n",
       " <Element 'localname' at 0x6423198>,\n",
       " <Element 'area' at 0x64231d0>,\n",
       " <Element 'population' at 0x6423208>,\n",
       " <Element 'population' at 0x6423240>,\n",
       " <Element 'population' at 0x6423278>,\n",
       " <Element 'population' at 0x64232b0>,\n",
       " <Element 'city' at 0x64232e8>,\n",
       " <Element 'name' at 0x6423320>,\n",
       " <Element 'localname' at 0x6423358>,\n",
       " <Element 'population' at 0x6423390>,\n",
       " <Element 'population' at 0x64233c8>,\n",
       " <Element 'population' at 0x6423400>,\n",
       " <Element 'population' at 0x6423438>,\n",
       " <Element 'city' at 0x6423470>,\n",
       " <Element 'name' at 0x64234a8>,\n",
       " <Element 'localname' at 0x64234e0>,\n",
       " <Element 'population' at 0x6423518>,\n",
       " <Element 'population' at 0x6423550>,\n",
       " <Element 'population' at 0x6423588>,\n",
       " <Element 'population' at 0x64235c0>,\n",
       " <Element 'located_at' at 0x64235f8>,\n",
       " <Element 'province' at 0x6423630>,\n",
       " <Element 'name' at 0x64236a0>,\n",
       " <Element 'localname' at 0x64236d8>,\n",
       " <Element 'area' at 0x6423710>,\n",
       " <Element 'population' at 0x6423748>,\n",
       " <Element 'population' at 0x6423780>,\n",
       " <Element 'population' at 0x64237b8>,\n",
       " <Element 'population' at 0x64237f0>,\n",
       " <Element 'city' at 0x6423828>,\n",
       " <Element 'name' at 0x6423898>,\n",
       " <Element 'located_at' at 0x64238d0>,\n",
       " <Element 'located_on' at 0x6423908>,\n",
       " <Element 'province' at 0x6423940>,\n",
       " <Element 'name' at 0x64239b0>,\n",
       " <Element 'localname' at 0x64239e8>,\n",
       " <Element 'area' at 0x6423a58>,\n",
       " <Element 'population' at 0x6423a90>,\n",
       " <Element 'population' at 0x6423ac8>,\n",
       " <Element 'population' at 0x6423b00>,\n",
       " <Element 'city' at 0x6423b38>,\n",
       " <Element 'name' at 0x6423ba8>,\n",
       " <Element 'population' at 0x6423be0>,\n",
       " <Element 'country' at 0x6423c18>,\n",
       " <Element 'name' at 0x6423c88>,\n",
       " <Element 'localname' at 0x6423cc0>,\n",
       " <Element 'population' at 0x6423cf8>,\n",
       " <Element 'population' at 0x6423d30>,\n",
       " <Element 'population' at 0x6423d68>,\n",
       " <Element 'population' at 0x6423da0>,\n",
       " <Element 'population' at 0x6423dd8>,\n",
       " <Element 'population' at 0x6423e10>,\n",
       " <Element 'population' at 0x6423e48>,\n",
       " <Element 'population' at 0x6423e80>,\n",
       " <Element 'population' at 0x6423eb8>,\n",
       " <Element 'population' at 0x6423ef0>,\n",
       " <Element 'population' at 0x6423f28>,\n",
       " <Element 'population_growth' at 0x6423f60>,\n",
       " <Element 'infant_mortality' at 0x6423f98>,\n",
       " <Element 'gdp_total' at 0x6423fd0>,\n",
       " <Element 'gdp_agri' at 0x6431048>,\n",
       " <Element 'gdp_ind' at 0x6431080>,\n",
       " <Element 'gdp_serv' at 0x64310b8>,\n",
       " <Element 'inflation' at 0x64310f0>,\n",
       " <Element 'unemployment' at 0x6431128>,\n",
       " <Element 'indep_date' at 0x6431160>,\n",
       " <Element 'government' at 0x6431198>,\n",
       " <Element 'encompassed' at 0x6431208>,\n",
       " <Element 'ethnicgroup' at 0x6431240>,\n",
       " <Element 'ethnicgroup' at 0x6431278>,\n",
       " <Element 'ethnicgroup' at 0x64312b0>,\n",
       " <Element 'ethnicgroup' at 0x64312e8>,\n",
       " <Element 'ethnicgroup' at 0x6431320>,\n",
       " <Element 'religion' at 0x6431358>,\n",
       " <Element 'religion' at 0x64313c8>,\n",
       " <Element 'religion' at 0x6431400>,\n",
       " <Element 'language' at 0x6431438>,\n",
       " <Element 'language' at 0x6431470>,\n",
       " <Element 'language' at 0x64314a8>,\n",
       " <Element 'language' at 0x64314e0>,\n",
       " <Element 'language' at 0x6431518>,\n",
       " <Element 'border' at 0x6431550>,\n",
       " <Element 'border' at 0x6431588>,\n",
       " <Element 'border' at 0x64315c0>,\n",
       " <Element 'border' at 0x64315f8>,\n",
       " <Element 'border' at 0x6431630>,\n",
       " <Element 'city' at 0x6431668>,\n",
       " <Element 'name' at 0x64316d8>,\n",
       " <Element 'localname' at 0x6431710>,\n",
       " <Element 'latitude' at 0x6431748>,\n",
       " <Element 'longitude' at 0x6431780>,\n",
       " <Element 'population' at 0x64317b8>,\n",
       " <Element 'population' at 0x64317f0>,\n",
       " <Element 'city' at 0x6431828>,\n",
       " <Element 'name' at 0x6431898>,\n",
       " <Element 'localname' at 0x64318d0>,\n",
       " <Element 'latitude' at 0x6431908>,\n",
       " <Element 'longitude' at 0x6431940>,\n",
       " <Element 'population' at 0x6431978>,\n",
       " <Element 'population' at 0x64319b0>,\n",
       " <Element 'country' at 0x64319e8>,\n",
       " <Element 'name' at 0x6431a58>,\n",
       " <Element 'localname' at 0x6431a90>,\n",
       " <Element 'population' at 0x6431ac8>,\n",
       " <Element 'population' at 0x6431b00>,\n",
       " <Element 'population' at 0x6431b38>,\n",
       " <Element 'population' at 0x6431b70>,\n",
       " <Element 'population' at 0x6431ba8>,\n",
       " <Element 'population' at 0x6431be0>,\n",
       " <Element 'population' at 0x6431c18>,\n",
       " <Element 'population' at 0x6431c50>,\n",
       " <Element 'population_growth' at 0x6431c88>,\n",
       " <Element 'infant_mortality' at 0x6431cc0>,\n",
       " <Element 'gdp_total' at 0x6431cf8>,\n",
       " <Element 'gdp_agri' at 0x6431d30>,\n",
       " <Element 'gdp_ind' at 0x6431d68>,\n",
       " <Element 'gdp_serv' at 0x6431da0>,\n",
       " <Element 'inflation' at 0x6431dd8>,\n",
       " <Element 'unemployment' at 0x6431e10>,\n",
       " <Element 'indep_date' at 0x6431e48>,\n",
       " <Element 'government' at 0x6431e80>,\n",
       " <Element 'encompassed' at 0x6431eb8>,\n",
       " <Element 'ethnicgroup' at 0x6431ef0>,\n",
       " <Element 'ethnicgroup' at 0x6431f28>,\n",
       " <Element 'ethnicgroup' at 0x6431f60>,\n",
       " <Element 'ethnicgroup' at 0x6431f98>,\n",
       " <Element 'ethnicgroup' at 0x6431fd0>,\n",
       " <Element 'ethnicgroup' at 0x643f048>,\n",
       " <Element 'religion' at 0x643f080>,\n",
       " <Element 'religion' at 0x643f0f0>,\n",
       " <Element 'religion' at 0x643f128>,\n",
       " <Element 'religion' at 0x643f160>,\n",
       " <Element 'language' at 0x643f198>,\n",
       " <Element 'language' at 0x643f1d0>,\n",
       " <Element 'language' at 0x643f208>,\n",
       " <Element 'language' at 0x643f240>,\n",
       " <Element 'border' at 0x643f278>,\n",
       " <Element 'border' at 0x643f2b0>,\n",
       " <Element 'border' at 0x643f2e8>,\n",
       " <Element 'border' at 0x643f320>,\n",
       " <Element 'border' at 0x643f358>,\n",
       " <Element 'border' at 0x643f390>,\n",
       " <Element 'border' at 0x643f3c8>,\n",
       " <Element 'border' at 0x643f400>,\n",
       " <Element 'city' at 0x643f438>,\n",
       " <Element 'name' at 0x643f4a8>,\n",
       " <Element 'localname' at 0x643f4e0>,\n",
       " <Element 'latitude' at 0x643f518>,\n",
       " <Element 'longitude' at 0x643f550>,\n",
       " <Element 'population' at 0x643f588>,\n",
       " <Element 'population' at 0x643f5c0>,\n",
       " <Element 'population' at 0x643f5f8>,\n",
       " <Element 'located_at' at 0x643f630>,\n",
       " <Element 'located_at' at 0x643f668>,\n",
       " <Element 'city' at 0x643f6a0>,\n",
       " <Element 'name' at 0x643f710>,\n",
       " <Element 'localname' at 0x643f748>,\n",
       " <Element 'population' at 0x643f780>,\n",
       " <Element 'population' at 0x643f7b8>,\n",
       " <Element 'located_at' at 0x643f7f0>,\n",
       " <Element 'city' at 0x643f828>,\n",
       " <Element 'name' at 0x643f898>,\n",
       " <Element 'localname' at 0x643f8d0>,\n",
       " <Element 'population' at 0x643f908>,\n",
       " <Element 'population' at 0x643f940>,\n",
       " <Element 'located_at' at 0x643f978>,\n",
       " <Element 'country' at 0x643f9e8>,\n",
       " <Element 'name' at 0x643fa58>,\n",
       " <Element 'localname' at 0x643fa90>,\n",
       " <Element 'population' at 0x643fac8>,\n",
       " <Element 'population' at 0x643fb00>,\n",
       " <Element 'population' at 0x643fb38>,\n",
       " <Element 'population' at 0x643fb70>,\n",
       " <Element 'population' at 0x643fba8>,\n",
       " <Element 'population' at 0x643fbe0>,\n",
       " <Element 'population' at 0x643fc18>,\n",
       " <Element 'population' at 0x643fc50>,\n",
       " <Element 'population' at 0x643fc88>,\n",
       " <Element 'population' at 0x643fcc0>,\n",
       " <Element 'population_growth' at 0x643fcf8>,\n",
       " <Element 'gdp_total' at 0x643fd30>,\n",
       " <Element 'gdp_agri' at 0x643fd68>,\n",
       " <Element 'gdp_ind' at 0x643fda0>,\n",
       " <Element 'gdp_serv' at 0x643fdd8>,\n",
       " <Element 'inflation' at 0x643fe10>,\n",
       " <Element 'unemployment' at 0x643fe48>,\n",
       " <Element 'indep_date' at 0x643fe80>,\n",
       " <Element 'government' at 0x643feb8>,\n",
       " <Element 'encompassed' at 0x643fef0>,\n",
       " <Element 'ethnicgroup' at 0x643ff28>,\n",
       " <Element 'ethnicgroup' at 0x643ff60>,\n",
       " <Element 'ethnicgroup' at 0x643ff98>,\n",
       " <Element 'ethnicgroup' at 0x643ffd0>,\n",
       " <Element 'religion' at 0x644c048>,\n",
       " <Element 'religion' at 0x644c0b8>,\n",
       " <Element 'religion' at 0x644c0f0>,\n",
       " <Element 'language' at 0x644c128>,\n",
       " <Element 'language' at 0x644c160>,\n",
       " <Element 'language' at 0x644c198>,\n",
       " <Element 'language' at 0x644c1d0>,\n",
       " <Element 'border' at 0x644c208>,\n",
       " <Element 'border' at 0x644c240>,\n",
       " <Element 'border' at 0x644c278>,\n",
       " <Element 'border' at 0x644c2b0>,\n",
       " <Element 'border' at 0x644c2e8>,\n",
       " <Element 'city' at 0x644c320>,\n",
       " <Element 'name' at 0x644c390>,\n",
       " <Element 'latitude' at 0x644c3c8>,\n",
       " <Element 'longitude' at 0x644c400>,\n",
       " <Element 'population' at 0x644c438>,\n",
       " <Element 'population' at 0x644c470>,\n",
       " <Element 'located_at' at 0x644c4a8>,\n",
       " <Element 'country' at 0x644c4e0>,\n",
       " <Element 'name' at 0x644c550>,\n",
       " <Element 'localname' at 0x644c588>,\n",
       " <Element 'population' at 0x644c5c0>,\n",
       " <Element 'population' at 0x644c5f8>,\n",
       " <Element 'population' at 0x644c630>,\n",
       " <Element 'gdp_total' at 0x644c668>,\n",
       " <Element 'gdp_agri' at 0x644c6a0>,\n",
       " <Element 'gdp_ind' at 0x644c6d8>,\n",
       " <Element 'gdp_serv' at 0x644c710>,\n",
       " <Element 'inflation' at 0x644c748>,\n",
       " <Element 'unemployment' at 0x644c780>,\n",
       " <Element 'indep_date' at 0x644c7b8>,\n",
       " <Element 'government' at 0x644c7f0>,\n",
       " <Element 'encompassed' at 0x644c828>,\n",
       " <Element 'ethnicgroup' at 0x644c860>,\n",
       " <Element 'ethnicgroup' at 0x644c898>,\n",
       " <Element 'religion' at 0x644c8d0>,\n",
       " <Element 'language' at 0x644c908>,\n",
       " <Element 'language' at 0x644c940>,\n",
       " <Element 'border' at 0x644c978>,\n",
       " <Element 'border' at 0x644c9b0>,\n",
       " <Element 'border' at 0x644c9e8>,\n",
       " <Element 'border' at 0x644ca20>,\n",
       " <Element 'city' at 0x644ca58>,\n",
       " <Element 'name' at 0x644cac8>,\n",
       " <Element 'name' at 0x644cb00>,\n",
       " <Element 'latitude' at 0x644cb38>,\n",
       " <Element 'longitude' at 0x644cb70>,\n",
       " <Element 'population' at 0x644cba8>,\n",
       " <Element 'population' at 0x644cbe0>,\n",
       " <Element 'population' at 0x644cc18>,\n",
       " <Element 'country' at 0x644cc50>,\n",
       " <Element 'name' at 0x644cc88>,\n",
       " <Element 'localname' at 0x644ccc0>,\n",
       " <Element 'population' at 0x644ccf8>,\n",
       " <Element 'population' at 0x644cd30>,\n",
       " <Element 'population' at 0x644cd68>,\n",
       " <Element 'population' at 0x644cda0>,\n",
       " <Element 'population' at 0x644cdd8>,\n",
       " <Element 'population' at 0x644ce10>,\n",
       " <Element 'population' at 0x644ce48>,\n",
       " <Element 'population' at 0x644ce80>,\n",
       " <Element 'population_growth' at 0x644ceb8>,\n",
       " <Element 'infant_mortality' at 0x644cef0>,\n",
       " <Element 'gdp_total' at 0x644cf28>,\n",
       " <Element 'gdp_agri' at 0x644cf60>,\n",
       " <Element 'gdp_ind' at 0x644cf98>,\n",
       " <Element 'gdp_serv' at 0x644cfd0>,\n",
       " <Element 'inflation' at 0x645d048>,\n",
       " <Element 'unemployment' at 0x645d080>,\n",
       " <Element 'indep_date' at 0x645d0b8>,\n",
       " <Element 'government' at 0x645d0f0>,\n",
       " <Element 'encompassed' at 0x645d128>,\n",
       " <Element 'ethnicgroup' at 0x645d160>,\n",
       " <Element 'ethnicgroup' at 0x645d198>,\n",
       " <Element 'ethnicgroup' at 0x645d1d0>,\n",
       " <Element 'ethnicgroup' at 0x645d208>,\n",
       " <Element 'ethnicgroup' at 0x645d240>,\n",
       " <Element 'religion' at 0x645d278>,\n",
       " <Element 'language' at 0x645d2b0>,\n",
       " <Element 'language' at 0x645d2e8>,\n",
       " <Element 'language' at 0x645d320>,\n",
       " <Element 'language' at 0x645d358>,\n",
       " <Element 'language' at 0x645d390>,\n",
       " <Element 'border' at 0x645d3c8>,\n",
       " <Element 'border' at 0x645d400>,\n",
       " <Element 'city' at 0x645d438>,\n",
       " <Element 'name' at 0x645d470>,\n",
       " <Element 'latitude' at 0x645d4e0>,\n",
       " <Element 'longitude' at 0x645d518>,\n",
       " <Element 'population' at 0x645d550>,\n",
       " <Element 'population' at 0x645d588>,\n",
       " <Element 'population' at 0x645d5c0>]"
      ]
     },
     "execution_count": 14,
     "metadata": {},
     "output_type": "execute_result"
    }
   ],
   "source": [
    "elements = root.getiterator()\n",
    "elements"
   ]
  },
  {
   "cell_type": "code",
   "execution_count": 79,
   "metadata": {
    "collapsed": false
   },
   "outputs": [
    {
     "name": "stdout",
     "output_type": "stream",
     "text": [
      "Albania: 13.19\n",
      "Greece: 4.78\n",
      "Macedonia: 7.9\n",
      "Serbia: 6.16\n",
      "Montenegro: \n",
      "Kosovo: \n",
      "Andorra: 3.69\n"
     ]
    }
   ],
   "source": [
    "for child in root:\n",
    "    if child.find('infant_mortality') is not None:\n",
    "        print child.find('name').text + ': ' + child.find('infant_mortality').text\n",
    "    else:\n",
    "        print child.find('name').text + ': ' "
   ]
  },
  {
   "cell_type": "code",
   "execution_count": 198,
   "metadata": {
    "collapsed": false
   },
   "outputs": [
    {
     "data": {
      "text/html": [
       "<div>\n",
       "<table border=\"1\" class=\"dataframe\">\n",
       "  <thead>\n",
       "    <tr style=\"text-align: right;\">\n",
       "      <th></th>\n",
       "      <th>country</th>\n",
       "      <th>infant_mortality</th>\n",
       "    </tr>\n",
       "  </thead>\n",
       "  <tbody>\n",
       "    <tr>\n",
       "      <th>0</th>\n",
       "      <td>Albania</td>\n",
       "      <td>13.19</td>\n",
       "    </tr>\n",
       "    <tr>\n",
       "      <th>1</th>\n",
       "      <td>Greece</td>\n",
       "      <td>4.78</td>\n",
       "    </tr>\n",
       "    <tr>\n",
       "      <th>2</th>\n",
       "      <td>Macedonia</td>\n",
       "      <td>7.9</td>\n",
       "    </tr>\n",
       "    <tr>\n",
       "      <th>3</th>\n",
       "      <td>Serbia</td>\n",
       "      <td>6.16</td>\n",
       "    </tr>\n",
       "    <tr>\n",
       "      <th>4</th>\n",
       "      <td>Montenegro</td>\n",
       "      <td>NaN</td>\n",
       "    </tr>\n",
       "    <tr>\n",
       "      <th>5</th>\n",
       "      <td>Kosovo</td>\n",
       "      <td>NaN</td>\n",
       "    </tr>\n",
       "    <tr>\n",
       "      <th>6</th>\n",
       "      <td>Andorra</td>\n",
       "      <td>3.69</td>\n",
       "    </tr>\n",
       "  </tbody>\n",
       "</table>\n",
       "</div>"
      ],
      "text/plain": [
       "      country infant_mortality\n",
       "0     Albania            13.19\n",
       "1      Greece             4.78\n",
       "2   Macedonia              7.9\n",
       "3      Serbia             6.16\n",
       "4  Montenegro              NaN\n",
       "5      Kosovo              NaN\n",
       "6     Andorra             3.69"
      ]
     },
     "execution_count": 198,
     "metadata": {},
     "output_type": "execute_result"
    }
   ],
   "source": [
    "df = pd.DataFrame(columns=['country', 'infant_mortality'])\n",
    "country = []\n",
    "infant = []\n",
    "for child in root:\n",
    "    country.append(child.find('name').text)\n",
    "    if child.find('infant_mortality') is not None:\n",
    "        infant.append(child.find('infant_mortality').text)\n",
    "    else:\n",
    "        infant.append(np.nan)\n",
    "df.country = country\n",
    "df.infant_mortality = infant\n",
    "df"
   ]
  },
  {
   "cell_type": "code",
   "execution_count": 210,
   "metadata": {
    "collapsed": false
   },
   "outputs": [
    {
     "name": "stdout",
     "output_type": "stream",
     "text": [
      "Albania\n",
      "Greece\n",
      "Macedonia\n",
      "Serbia\n",
      "Montenegro\n",
      "Kosovo\n",
      "Andorra\n"
     ]
    }
   ],
   "source": [
    "for kid in root.findall('country/name'):\n",
    "    print kid.text"
   ]
  },
  {
   "cell_type": "code",
   "execution_count": 213,
   "metadata": {
    "collapsed": false
   },
   "outputs": [
    {
     "data": {
      "text/plain": [
       "[<Element 'country' at 0x63802b0>,\n",
       " <Element 'country' at 0x6390518>,\n",
       " <Element 'country' at 0x6423c18>,\n",
       " <Element 'country' at 0x64319e8>,\n",
       " <Element 'country' at 0x643f9e8>,\n",
       " <Element 'country' at 0x644c4e0>,\n",
       " <Element 'country' at 0x644cc50>]"
      ]
     },
     "execution_count": 213,
     "metadata": {},
     "output_type": "execute_result"
    }
   ],
   "source": [
    "root.findall('country')"
   ]
  },
  {
   "cell_type": "code",
   "execution_count": 227,
   "metadata": {
    "collapsed": false
   },
   "outputs": [
    {
     "name": "stdout",
     "output_type": "stream",
     "text": [
      "<Element 'city' at 0x6380a90>\n",
      "None\n",
      "<Element 'city' at 0x6431668>\n",
      "<Element 'city' at 0x643f438>\n",
      "<Element 'city' at 0x644c320>\n",
      "<Element 'city' at 0x644ca58>\n",
      "<Element 'city' at 0x645d438>\n"
     ]
    }
   ],
   "source": [
    "for kid in root:\n",
    "    print kid.find(r'city')"
   ]
  },
  {
   "cell_type": "code",
   "execution_count": 233,
   "metadata": {
    "collapsed": false,
    "scrolled": true
   },
   "outputs": [
    {
     "data": {
      "text/plain": [
       "[<Element 'city' at 0x6380a90>,\n",
       " <Element 'city' at 0x6380c88>,\n",
       " <Element 'city' at 0x6380e48>,\n",
       " <Element 'city' at 0x6390048>,\n",
       " <Element 'city' at 0x6390208>,\n",
       " <Element 'city' at 0x6390390>]"
      ]
     },
     "execution_count": 233,
     "metadata": {},
     "output_type": "execute_result"
    }
   ],
   "source": [
    "root[0].getiterator('city')"
   ]
  },
  {
   "cell_type": "code",
   "execution_count": 240,
   "metadata": {
    "collapsed": false
   },
   "outputs": [
    {
     "name": "stdout",
     "output_type": "stream",
     "text": [
      "Tirana\n",
      "Shkodër\n",
      "Durrës\n",
      "Vlorë\n",
      "Elbasan\n",
      "Korçë\n",
      "Komotini\n",
      "Kavala\n",
      "Athina\n",
      "Peiraias\n",
      "Peristeri\n",
      "Acharnes\n",
      "Patra\n",
      "Kozani\n",
      "Kerkyra\n",
      "Ioannina\n",
      "Thessaloniki\n",
      "Iraklio\n",
      "Chania\n",
      "Ermoupoli\n",
      "Rhodes\n",
      "Tripoli\n",
      "Lamia\n",
      "Chalkida\n",
      "Larissa\n",
      "Volos\n",
      "Mytilini\n",
      "Karyes\n",
      "Skopje\n",
      "Kumanovo\n",
      "Beograd\n",
      "Novi Sad\n",
      "Niš\n",
      "Podgorica\n",
      "Prishtine\n",
      "Andorra la Vella\n"
     ]
    }
   ],
   "source": [
    "for elm in root.iterfind('country'):\n",
    "    for subelm in elm.getiterator('city'):\n",
    "        print subelm.find('name').text"
   ]
  },
  {
   "cell_type": "code",
   "execution_count": 247,
   "metadata": {
    "collapsed": false
   },
   "outputs": [
    {
     "name": "stdout",
     "output_type": "stream",
     "text": [
      "Tirana:  192000\n",
      "Shkodër:  62000\n",
      "Durrës:  60000\n",
      "Vlorë:  56000\n",
      "Elbasan:  53000\n",
      "Korçë:  52000\n",
      "Komotini:  \n",
      "Kavala:  56705\n",
      "Athina:  885737\n",
      "Peiraias:  196389\n",
      "Peristeri:  141971\n",
      "Acharnes:  65035\n",
      "Patra:  142163\n",
      "Kozani:  \n",
      "Kerkyra:  101236\n",
      "Ioannina:  92425\n",
      "Thessaloniki:  406413\n",
      "Iraklio:  102398\n",
      "Chania:  83712\n",
      "Ermoupoli:  \n",
      "Rhodes:  96159\n",
      "Tripoli:  \n",
      "Lamia:  75315\n",
      "Chalkida:  85573\n",
      "Larissa:  102426\n",
      "Volos:  71378\n",
      "Mytilini:  \n",
      "Karyes:  233\n",
      "Skopje:  506926\n",
      "Kumanovo:  105484\n",
      "Beograd:  1407073\n",
      "Novi Sad:  299294\n",
      "Niš:  250518\n",
      "Podgorica:  136473\n",
      "Prishtine:  148090\n",
      "Andorra la Vella:  15600\n"
     ]
    }
   ],
   "source": [
    "for elm in root.getiterator('city'):\n",
    "    print elm.find('name').text + ': ',\n",
    "    if elm.find('population') is not None:\n",
    "        print elm.find('population').text\n",
    "    else:\n",
    "        print ''"
   ]
  },
  {
   "cell_type": "code",
   "execution_count": null,
   "metadata": {
    "collapsed": true
   },
   "outputs": [],
   "source": []
  },
  {
   "cell_type": "markdown",
   "metadata": {
    "collapsed": true
   },
   "source": [
    "***\n",
    "## 10 religions with most populations"
   ]
  },
  {
   "cell_type": "code",
   "execution_count": null,
   "metadata": {
    "collapsed": true
   },
   "outputs": [],
   "source": [
    "religion = []\n",
    "relgn_pcg = []\n",
    "country = []\n",
    "country_pop = []\n",
    "relgn_pop_df = pd.DataFrame(columns=['country', 'religion', 'percentage', 'country population'])\n",
    "for elm in root.getiterator('country'):\n",
    "    for subelm in elm.getiterator('religion'):\n",
    "        country.append(elm.find('name').text)\n",
    "        country_pop.append(elm.find('population').text)\n",
    "        religion.append(subelm.text)\n",
    "        relgn_pcg.append(subelm.attrib['percentage'])\n",
    "        \n",
    "relgn_pop_df.country = country\n",
    "relgn_pop_df.religion = religion\n",
    "relgn_pop_df.percentage = relgn_pcg\n",
    "relgn_pop_df['country population'] = country_pop\n",
    "relgn_pop_df.percentage = relgn_pop_df.percentage.astype('float')\n",
    "relgn_pop_df['country population'] = relgn_pop_df['country population'].astype('float')\n",
    "relgn_pop_df['religion population'] = relgn_pop_df.percentage/100.0 * relgn_pop_df['country population']\n",
    "relgn_pop_df"
   ]
  },
  {
   "cell_type": "code",
   "execution_count": null,
   "metadata": {
    "collapsed": true
   },
   "outputs": [],
   "source": [
    "relgn_pop_df.groupby('religion').sum().\\\n",
    "        sort_values(by='religion population', ascending=False)[['religion population']].head(10)"
   ]
  },
  {
   "cell_type": "code",
   "execution_count": null,
   "metadata": {
    "collapsed": true
   },
   "outputs": [],
   "source": []
  }
 ],
 "metadata": {
  "kernelspec": {
   "display_name": "Python 2",
   "language": "python",
   "name": "python2"
  },
  "language_info": {
   "codemirror_mode": {
    "name": "ipython",
    "version": 2
   },
   "file_extension": ".py",
   "mimetype": "text/x-python",
   "name": "python",
   "nbconvert_exporter": "python",
   "pygments_lexer": "ipython2",
   "version": "2.7.13"
  }
 },
 "nbformat": 4,
 "nbformat_minor": 2
}
