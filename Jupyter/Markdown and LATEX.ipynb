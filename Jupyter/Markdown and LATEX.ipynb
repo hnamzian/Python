{
 "cells": [
  {
   "cell_type": "markdown",
   "metadata": {},
   "source": [
    "# Jupyter tutorial 1: Markdown and LATEX\n",
    "### note: double click on each cell to see the code\n",
    "### Resource:\n",
    "##### https://www.youtube.com/channel/UC98x5I1LVPhtnUHDyujq7zg"
   ]
  },
  {
   "cell_type": "markdown",
   "metadata": {},
   "source": [
    "# HEAD1\n",
    "## HEAD2\n",
    "### HEAD3\n",
    "#### HEAD4\n",
    "##### HEAD5\n",
    "###### HEAD6"
   ]
  },
  {
   "cell_type": "markdown",
   "metadata": {},
   "source": [
    "Alt HEAD 1\n",
    "==========\n",
    "\n",
    "Alt HEAD 2\n",
    "----------"
   ]
  },
  {
   "cell_type": "markdown",
   "metadata": {},
   "source": [
    "# Font Styles:\n",
    "\n",
    "- *Italic*\n",
    "- _Italic_\n",
    "- **Bold**\n",
    "- __Bold__\n",
    "- *__Bold Italic__*\n",
    "- ~~Throught~~\n"
   ]
  },
  {
   "cell_type": "markdown",
   "metadata": {},
   "source": [
    "## Lists:\n",
    "\n",
    "- Item 1\n",
    "- Item 2\n",
    "    - Sub Item 2.1\n",
    "    - Sub Item 2.2\n",
    "- Item 3\n",
    "\n",
    "## Numbered List:\n",
    "\n",
    "1. Item 1\n",
    "2. Item 2\n",
    "3. Item 3\n",
    "     A.Sub Item 3.1\n",
    "     B.Sub Item 3.2\n",
    "4. Item 4\n"
   ]
  },
  {
   "cell_type": "markdown",
   "metadata": {},
   "source": [
    "## Links:\n",
    "\n",
    "https://www.google.com \n",
    "\n",
    "[Google](https://www.google.com)\n",
    "\n",
    "[Google with tooltip](https://www.google.com \"Google's Homepage\")"
   ]
  },
  {
   "cell_type": "markdown",
   "metadata": {},
   "source": [
    "### Code:\n",
    "\n",
    "``` python\n",
    "    s = \"Hello world\"\n",
    "    print s\n",
    "```\n",
    "\n",
    "``` Javascript\n",
    "    var s = \"Hello to Jscript\";\n",
    "    alert(s)\n",
    "```"
   ]
  },
  {
   "cell_type": "markdown",
   "metadata": {},
   "source": [
    "## Tables:\n",
    "\n",
    "|Website   |URL           |Rank |\n",
    "|---------:|:------------:|:---:|\n",
    "|Google    |google.com    |  1  |\n",
    "|Youtube   |youtube.com   |  2  |\n",
    "|Facebook  |Facebook.com  |  3  |\n"
   ]
  },
  {
   "cell_type": "markdown",
   "metadata": {},
   "source": [
    "## Qoutes:\n",
    "\n",
    "> ### Qoutes from somone\n",
    "> *with multiple lines*"
   ]
  },
  {
   "cell_type": "markdown",
   "metadata": {},
   "source": [
    "## HTML\n",
    "\n",
    "<hr>\n",
    "<p> Almost any <strong>HTML</strong> code will render<br />Just <i>fine</i>.</p>"
   ]
  },
  {
   "cell_type": "markdown",
   "metadata": {},
   "source": [
    "## Horizontal line:\n",
    "\n",
    "---\n",
    "***\n",
    "___"
   ]
  },
  {
   "cell_type": "markdown",
   "metadata": {},
   "source": [
    "# Markdown and Latex\n",
    "\n",
    "for Latex see:\n",
    "https://www.wikipedia.org/wiki/Latex/Mathematics"
   ]
  },
  {
   "cell_type": "markdown",
   "metadata": {},
   "source": [
    "## Inline and Block formula\n",
    "\n",
    "- Inline formula: $x=y$\n",
    "- Block formula: $$x=y$$"
   ]
  },
  {
   "cell_type": "markdown",
   "metadata": {},
   "source": [
    "## Greek Letters:\n",
    "\n",
    "- Alpha: $\\alpha A$\n",
    "- Beta:  $\\beta B$\n",
    "- Gamma: $\\gamma \\Gamma$\n",
    "- Pi: $\\pi \\Pi \\varpi$\n",
    "- Phi: $\\phi \\Phi$\n",
    "- epsilon: $\\epsilon \\varepsilon$\n",
    "- Theta: $\\theta \\Theta \\vartheta$\n",
    "- Rho: $\\rho \\varrho$\n",
    "- Sigma: $\\sigma \\Sigma \\varsigma$"
   ]
  },
  {
   "cell_type": "markdown",
   "metadata": {},
   "source": [
    "## Basic operations:\n",
    "\n",
    "- $y = x + 5$\n",
    "- $y = 5x$\n",
    "- $y = 5 \\times x$\n",
    "- $y = \\frac{5}{x}$\n",
    "- $y = x \\div 5$"
   ]
  },
  {
   "cell_type": "markdown",
   "metadata": {},
   "source": [
    "## Power and Index:\n",
    "\n",
    "- $y_n = x_n - x_{n-1}$\n",
    "- $y = x^2 - 2x^{n-1}$"
   ]
  },
  {
   "cell_type": "markdown",
   "metadata": {},
   "source": [
    "## Fraction Type:\n",
    "\n",
    "- $x/y$\n",
    "- $^x/_y$\n",
    "- $\\frac{x}{y}$"
   ]
  },
  {
   "cell_type": "markdown",
   "metadata": {},
   "source": [
    "## Roots:\n",
    "\n",
    "- $\\sqrt{\\frac{x}{y}}$\n",
    "- $\\sqrt[n]{x}{y}$"
   ]
  },
  {
   "cell_type": "markdown",
   "metadata": {},
   "source": [
    "## Sums and Integrals:\n",
    "\n",
    "- $\\sum\\limits_{i=1}^{N}t_i$\n",
    "- $\\int\\limits_{a}^{b}x^2dx$\n",
    "- $\\int_0^\\infty sin(x^2)dx$"
   ]
  }
 ],
 "metadata": {
  "kernelspec": {
   "display_name": "Python 2",
   "language": "python",
   "name": "python2"
  },
  "language_info": {
   "codemirror_mode": {
    "name": "ipython",
    "version": 2
   },
   "file_extension": ".py",
   "mimetype": "text/x-python",
   "name": "python",
   "nbconvert_exporter": "python",
   "pygments_lexer": "ipython2",
   "version": "2.7.13"
  }
 },
 "nbformat": 4,
 "nbformat_minor": 0
}
